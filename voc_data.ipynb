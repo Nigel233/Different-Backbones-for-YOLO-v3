{
 "cells": [
  {
   "cell_type": "code",
   "execution_count": 1,
   "metadata": {},
   "outputs": [],
   "source": [
    "import xml.etree.ElementTree as ET\n",
    "import pickle\n",
    "import os\n",
    "from os import listdir, getcwd\n",
    "from os.path import join\n",
    "import shutil\n",
    "from tqdm import tqdm"
   ]
  },
  {
   "cell_type": "markdown",
   "metadata": {},
   "source": [
    "Substitude all \"holing\" in this jupyter notebook to your username"
   ]
  },
  {
   "cell_type": "code",
   "execution_count": 2,
   "metadata": {},
   "outputs": [],
   "source": [
    "voc_label_path = \"/home/reshao/voc/VOCdevkit/VOC2012/Annotations/\"\n",
    "classes = [\"person\", \"bird\",\"cat\",\"cow\",\"dog\",\"horse\",\"sheep\",'aeroplane','bicycle','boat',\"bus\",\"car\", \\\n",
    "           \"motorbike\",\"train\",'bottle','chair','dinning table','potted plant',\"sofa\",'tvmonitor']"
   ]
  },
  {
   "cell_type": "code",
   "execution_count": 3,
   "metadata": {},
   "outputs": [],
   "source": [
    "sets=[('2012', 'train'),('2012', 'val'),('2012','test')]"
   ]
  },
  {
   "cell_type": "markdown",
   "metadata": {},
   "source": [
    "convert label from VOC to YOLO"
   ]
  },
  {
   "cell_type": "code",
   "execution_count": 4,
   "metadata": {},
   "outputs": [],
   "source": [
    "def convert(size, box):\n",
    "    dw = 1./(size[0])\n",
    "    dh = 1./(size[1])\n",
    "    x = (box[0] + box[1])/2.0 - 1\n",
    "    y = (box[2] + box[3])/2.0 - 1\n",
    "    w = box[1] - box[0]\n",
    "    h = box[3] - box[2]\n",
    "    x = x*dw\n",
    "    w = w*dw\n",
    "    y = y*dh\n",
    "    h = h*dh\n",
    "    return (x,y,w,h)"
   ]
  },
  {
   "cell_type": "code",
   "execution_count": 5,
   "metadata": {},
   "outputs": [],
   "source": [
    "def convert_annotation(year, image_id):\n",
    "    in_file = open('/home/reshao/voc/VOCdevkit/VOC%s/Annotations/%s.xml'%(year, image_id))\n",
    "    out_file = open('./data/VOC/labels/%s.txt'%( image_id), 'w')\n",
    "    tree=ET.parse(in_file)\n",
    "    root = tree.getroot()\n",
    "    size = root.find('size')\n",
    "    w = int(size.find('width').text)\n",
    "    h = int(size.find('height').text)\n",
    "\n",
    "    for obj in root.iter('object'):\n",
    "        cls = obj.find('name').text\n",
    "        if cls not in classes:\n",
    "            continue\n",
    "        cls_id = classes.index(cls)\n",
    "        xmlbox = obj.find('bndbox')\n",
    "        b = (float(xmlbox.find('xmin').text), float(xmlbox.find('xmax').text), float(xmlbox.find('ymin').text), float(xmlbox.find('ymax').text))\n",
    "        bb = convert((w,h), b)\n",
    "        out_file.write(str(cls_id) + \" \" + \" \".join([str(a) for a in bb]) + '\\n')\n"
   ]
  },
  {
   "cell_type": "code",
   "execution_count": 6,
   "metadata": {},
   "outputs": [],
   "source": [
    "wd = getcwd()"
   ]
  },
  {
   "cell_type": "code",
   "execution_count": 7,
   "metadata": {},
   "outputs": [
    {
     "name": "stderr",
     "output_type": "stream",
     "text": [
      "100%|██████████| 5717/5717 [01:04<00:00, 88.98it/s] \n"
     ]
    }
   ],
   "source": [
    "#for year, image_set in sets:\n",
    "year = '2012'\n",
    "image_set = 'train'\n",
    "if not os.path.exists('./data/VOC/labels/'):\n",
    "    os.makedirs('./data/VOC/labels/')\n",
    "if not os.path.exists('./data/VOC/images/'):\n",
    "    os.makedirs('./data/VOC/images/')\n",
    "image_ids = open('/home/reshao/voc/VOCdevkit/VOC%s/ImageSets/Main/%s.txt'%(year, image_set)).read().strip().split()\n",
    "list_file = open('./data/%s_%s.txt'%(year, image_set), 'w')\n",
    "for image_id in tqdm(image_ids):\n",
    "    old_name = '/home/reshao/voc/VOCdevkit/VOC%s/JPEGImages/%s.jpg'%( year, image_id)\n",
    "    new_name = './data/VOC/images/%s.jpg'%( image_id)\n",
    "    shutil.copyfile(old_name, new_name)\n",
    "    list_file.write(new_name+'\\n')\n",
    "    convert_annotation(year, image_id)\n",
    "list_file.close()"
   ]
  },
  {
   "cell_type": "markdown",
   "metadata": {},
   "source": [
    "split val into val and test"
   ]
  },
  {
   "cell_type": "code",
   "execution_count": 8,
   "metadata": {},
   "outputs": [
    {
     "name": "stderr",
     "output_type": "stream",
     "text": [
      "100%|██████████| 2000/2000 [00:20<00:00, 96.14it/s] \n",
      "100%|██████████| 3823/3823 [00:42<00:00, 90.63it/s] \n"
     ]
    }
   ],
   "source": [
    "year = '2012'\n",
    "image_set = 'val'\n",
    "image_ids = open('/home/reshao/voc/VOCdevkit/VOC%s/ImageSets/Main/%s.txt'%(year, image_set)).read().strip().split()\n",
    "list_file = open('./data/%s_%s.txt'%(year, image_set), 'w')\n",
    "for image_id in tqdm(image_ids[:2000]):\n",
    "    old_name = '/home/reshao/voc/VOCdevkit/VOC%s/JPEGImages/%s.jpg'%( year, image_id)\n",
    "    new_name = './data/VOC/images/%s.jpg'%( image_id)\n",
    "    shutil.copyfile(old_name, new_name)\n",
    "    list_file.write(new_name +'\\n')\n",
    "    convert_annotation(year, image_id)\n",
    "list_file.close()\n",
    "\n",
    "image_set = 'test'\n",
    "list_file = open('./data/%s_%s.txt'%(year, image_set), 'w')\n",
    "for image_id in tqdm(image_ids[2000:]):\n",
    "    old_name = '/home/reshao/voc/VOCdevkit/VOC%s/JPEGImages/%s.jpg'%( year, image_id)\n",
    "    new_name = './data/VOC/images/%s.jpg'%( image_id)\n",
    "    shutil.copyfile(old_name, new_name)\n",
    "    list_file.write(new_name+'\\n')\n",
    "    convert_annotation(year, image_id)\n",
    "list_file.close()"
   ]
  }
 ],
 "metadata": {
  "kernelspec": {
   "display_name": "Python 3",
   "language": "python",
   "name": "python3"
  },
  "language_info": {
   "codemirror_mode": {
    "name": "ipython",
    "version": 3
   },
   "file_extension": ".py",
   "mimetype": "text/x-python",
   "name": "python",
   "nbconvert_exporter": "python",
   "pygments_lexer": "ipython3",
   "version": "3.7.3"
  }
 },
 "nbformat": 4,
 "nbformat_minor": 2
}
