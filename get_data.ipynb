{
 "cells": [
  {
   "cell_type": "markdown",
   "metadata": {},
   "source": [
    "### get test labels"
   ]
  },
  {
   "cell_type": "code",
   "execution_count": 21,
   "metadata": {},
   "outputs": [],
   "source": [
    "import os\n",
    "import shutil\n",
    "import random"
   ]
  },
  {
   "cell_type": "code",
   "execution_count": 4,
   "metadata": {},
   "outputs": [],
   "source": [
    "total_file_path = './data/coco/labels/'\n",
    "test_file_path = 'val2017'\n",
    "train_file_path = 'train2017'\n",
    "sub_file_path = './data/coco/new_labels/'"
   ]
  },
  {
   "cell_type": "code",
   "execution_count": 31,
   "metadata": {},
   "outputs": [],
   "source": [
    "total_test_label_list = os.listdir(os.path.join(total_file_path, test_file_path))"
   ]
  },
  {
   "cell_type": "code",
   "execution_count": 26,
   "metadata": {},
   "outputs": [
    {
     "data": {
      "text/plain": [
       "4951"
      ]
     },
     "execution_count": 26,
     "metadata": {},
     "output_type": "execute_result"
    }
   ],
   "source": [
    "len(total_test_label_list)"
   ]
  },
  {
   "cell_type": "code",
   "execution_count": 34,
   "metadata": {},
   "outputs": [],
   "source": [
    "random.seed(253)\n",
    "random.shuffle(total_test_label_list)"
   ]
  },
  {
   "cell_type": "code",
   "execution_count": 38,
   "metadata": {},
   "outputs": [
    {
     "data": {
      "text/plain": [
       "'000000193181.txt'"
      ]
     },
     "execution_count": 38,
     "metadata": {},
     "output_type": "execute_result"
    }
   ],
   "source": [
    "total_test_label_list[0]"
   ]
  },
  {
   "cell_type": "code",
   "execution_count": 50,
   "metadata": {},
   "outputs": [],
   "source": [
    "sub_test_label_list = total_test_label_list[:1000]"
   ]
  },
  {
   "cell_type": "code",
   "execution_count": 51,
   "metadata": {},
   "outputs": [
    {
     "data": {
      "text/plain": [
       "1000"
      ]
     },
     "execution_count": 51,
     "metadata": {},
     "output_type": "execute_result"
    }
   ],
   "source": [
    "len(sub_test_label_list)"
   ]
  },
  {
   "cell_type": "code",
   "execution_count": 42,
   "metadata": {},
   "outputs": [],
   "source": [
    "new_dir = './data/coco/new_labels/'\n",
    "new_test_dir = os.path.join(new_dir, test_file_path)\n",
    "old_test_dir = os.path.join(total_file_path, test_file_path)\n",
    "for labels in sub_test_label_list:\n",
    "    old_name = os.path.join(old_test_dir, labels)\n",
    "    new_name = os.path.join(new_test_dir, labels)\n",
    "    shutil.copyfile(old_name, new_name)"
   ]
  },
  {
   "cell_type": "code",
   "execution_count": 43,
   "metadata": {},
   "outputs": [],
   "source": [
    "with open('test_label_file.txt', 'w') as f:\n",
    "    for labels in sub_test_label_list:\n",
    "        f.write(labels + '\\n')"
   ]
  },
  {
   "cell_type": "code",
   "execution_count": 44,
   "metadata": {},
   "outputs": [],
   "source": [
    "with open('testImageIds', 'w') as f:\n",
    "    for labels in sub_test_label_list:\n",
    "        idx = labels.split('.')[0]\n",
    "        idx = int(idx)\n",
    "        idx = str(idx)\n",
    "        f.write(idx + '\\n')"
   ]
  },
  {
   "cell_type": "markdown",
   "metadata": {},
   "source": [
    "### get train labels"
   ]
  },
  {
   "cell_type": "code",
   "execution_count": 45,
   "metadata": {},
   "outputs": [],
   "source": [
    "total_train_label_list = os.listdir(os.path.join(total_file_path, train_file_path))"
   ]
  },
  {
   "cell_type": "code",
   "execution_count": 46,
   "metadata": {},
   "outputs": [
    {
     "data": {
      "text/plain": [
       "39780"
      ]
     },
     "execution_count": 46,
     "metadata": {},
     "output_type": "execute_result"
    }
   ],
   "source": [
    "len(total_train_label_list)"
   ]
  },
  {
   "cell_type": "code",
   "execution_count": 47,
   "metadata": {},
   "outputs": [],
   "source": [
    "random.seed(253)\n",
    "random.shuffle(total_train_label_list)"
   ]
  },
  {
   "cell_type": "code",
   "execution_count": 48,
   "metadata": {},
   "outputs": [
    {
     "data": {
      "text/plain": [
       "'000000048791.txt'"
      ]
     },
     "execution_count": 48,
     "metadata": {},
     "output_type": "execute_result"
    }
   ],
   "source": [
    "total_train_label_list[0]"
   ]
  },
  {
   "cell_type": "code",
   "execution_count": 54,
   "metadata": {},
   "outputs": [],
   "source": [
    "sub_train_label_list = total_train_label_list[:8000]"
   ]
  },
  {
   "cell_type": "code",
   "execution_count": 55,
   "metadata": {},
   "outputs": [
    {
     "data": {
      "text/plain": [
       "8000"
      ]
     },
     "execution_count": 55,
     "metadata": {},
     "output_type": "execute_result"
    }
   ],
   "source": [
    "len(sub_train_label_list)"
   ]
  },
  {
   "cell_type": "code",
   "execution_count": 56,
   "metadata": {},
   "outputs": [],
   "source": [
    "new_dir = './data/coco/new_labels/'\n",
    "new_train_dir = os.path.join(new_dir, train_file_path)\n",
    "old_train_dir = os.path.join(total_file_path, train_file_path)\n",
    "for labels in sub_train_label_list:\n",
    "    old_name = os.path.join(old_train_dir, labels)\n",
    "    new_name = os.path.join(new_train_dir, labels)\n",
    "    shutil.copyfile(old_name, new_name)"
   ]
  },
  {
   "cell_type": "code",
   "execution_count": 57,
   "metadata": {},
   "outputs": [],
   "source": [
    "with open('train_label_file.txt', 'w') as f:\n",
    "    for labels in sub_train_label_list:\n",
    "        f.write(labels + '\\n')"
   ]
  },
  {
   "cell_type": "code",
   "execution_count": 58,
   "metadata": {},
   "outputs": [],
   "source": [
    "with open('trainImageIds', 'w') as f:\n",
    "    for labels in sub_train_label_list:\n",
    "        idx = labels.split('.')[0]\n",
    "        idx = int(idx)\n",
    "        idx = str(idx)\n",
    "        f.write(idx + '\\n')"
   ]
  },
  {
   "cell_type": "markdown",
   "metadata": {},
   "source": [
    "### get valid labels"
   ]
  },
  {
   "cell_type": "code",
   "execution_count": 59,
   "metadata": {},
   "outputs": [],
   "source": [
    "sub_valid_label_list = total_train_label_list[8000:9000]"
   ]
  },
  {
   "cell_type": "code",
   "execution_count": 60,
   "metadata": {},
   "outputs": [],
   "source": [
    "new_dir = './data/coco/new_labels/'\n",
    "valid_file_path = 'val2017'\n",
    "new_valid_dir = os.path.join(new_dir, valid_file_path)\n",
    "old_valid_dir = os.path.join(total_file_path, train_file_path)\n",
    "for labels in sub_valid_label_list:\n",
    "    old_name = os.path.join(old_valid_dir, labels)\n",
    "    new_name = os.path.join(new_valid_dir, labels)\n",
    "    shutil.copyfile(old_name, new_name)"
   ]
  },
  {
   "cell_type": "code",
   "execution_count": 61,
   "metadata": {},
   "outputs": [],
   "source": [
    "with open('valid_label_file.txt', 'w') as f:\n",
    "    for labels in sub_valid_label_list:\n",
    "        f.write(labels + '\\n')"
   ]
  },
  {
   "cell_type": "code",
   "execution_count": 62,
   "metadata": {},
   "outputs": [],
   "source": [
    "with open('validImageIds', 'w') as f:\n",
    "    for labels in sub_valid_label_list:\n",
    "        idx = labels.split('.')[0]\n",
    "        idx = int(idx)\n",
    "        idx = str(idx)\n",
    "        f.write(idx + '\\n')"
   ]
  },
  {
   "cell_type": "markdown",
   "metadata": {},
   "source": [
    "### get test images"
   ]
  },
  {
   "cell_type": "code",
   "execution_count": 63,
   "metadata": {},
   "outputs": [
    {
     "data": {
      "text/plain": [
       "1000"
      ]
     },
     "execution_count": 63,
     "metadata": {},
     "output_type": "execute_result"
    }
   ],
   "source": [
    "len(sub_test_label_list)"
   ]
  },
  {
   "cell_type": "code",
   "execution_count": 64,
   "metadata": {},
   "outputs": [
    {
     "data": {
      "text/plain": [
       "'000000193181.txt'"
      ]
     },
     "execution_count": 64,
     "metadata": {},
     "output_type": "execute_result"
    }
   ],
   "source": [
    "sub_test_label_list[0]"
   ]
  },
  {
   "cell_type": "code",
   "execution_count": 65,
   "metadata": {},
   "outputs": [],
   "source": [
    "total_image_dir = './data/coco/images/'\n",
    "sub_image_dir = './data/coco/new_images/'\n",
    "old_test_dir = 'val2017'\n",
    "train_dir = 'train2017'\n",
    "new_test_dir = 'test2017'"
   ]
  },
  {
   "cell_type": "code",
   "execution_count": 66,
   "metadata": {},
   "outputs": [],
   "source": [
    "total_test_image_list = os.listdir(os.path.join(total_image_dir, old_test_dir))"
   ]
  },
  {
   "cell_type": "code",
   "execution_count": 86,
   "metadata": {},
   "outputs": [
    {
     "data": {
      "text/plain": [
       "5000"
      ]
     },
     "execution_count": 86,
     "metadata": {},
     "output_type": "execute_result"
    }
   ],
   "source": [
    "len(total_test_image_list)"
   ]
  },
  {
   "cell_type": "code",
   "execution_count": 85,
   "metadata": {},
   "outputs": [
    {
     "data": {
      "text/plain": [
       "'000000217060.jpg'"
      ]
     },
     "execution_count": 85,
     "metadata": {},
     "output_type": "execute_result"
    }
   ],
   "source": [
    "total_test_image_list[0]"
   ]
  },
  {
   "cell_type": "code",
   "execution_count": 87,
   "metadata": {},
   "outputs": [],
   "source": [
    "testImageIds = set()\n",
    "with open('testImageIds', 'r') as f:\n",
    "    for line in f:\n",
    "        testImageIds.add(line.strip('\\n'))"
   ]
  },
  {
   "cell_type": "code",
   "execution_count": 88,
   "metadata": {},
   "outputs": [
    {
     "data": {
      "text/plain": [
       "1000"
      ]
     },
     "execution_count": 88,
     "metadata": {},
     "output_type": "execute_result"
    }
   ],
   "source": [
    "len(testImageIds)"
   ]
  },
  {
   "cell_type": "code",
   "execution_count": 89,
   "metadata": {},
   "outputs": [],
   "source": [
    "sub_test_image_list = []\n",
    "for image in total_test_image_list:\n",
    "    idx = image.split('.')[0]\n",
    "    idx = int(idx)\n",
    "    idx = str(idx)\n",
    "    if idx in testImageIds:\n",
    "        sub_test_image_list.append(image)"
   ]
  },
  {
   "cell_type": "code",
   "execution_count": 90,
   "metadata": {},
   "outputs": [
    {
     "data": {
      "text/plain": [
       "1000"
      ]
     },
     "execution_count": 90,
     "metadata": {},
     "output_type": "execute_result"
    }
   ],
   "source": [
    "len(sub_test_image_list)"
   ]
  },
  {
   "cell_type": "code",
   "execution_count": 91,
   "metadata": {},
   "outputs": [
    {
     "data": {
      "text/plain": [
       "'000000568290.jpg'"
      ]
     },
     "execution_count": 91,
     "metadata": {},
     "output_type": "execute_result"
    }
   ],
   "source": [
    "sub_test_image_list[0]"
   ]
  },
  {
   "cell_type": "code",
   "execution_count": 92,
   "metadata": {},
   "outputs": [],
   "source": [
    "new_test_image_dir = os.path.join(sub_image_dir, new_test_dir)\n",
    "old_test_image_dir = os.path.join(total_image_dir, old_test_dir)\n",
    "for image in sub_test_image_list:\n",
    "    old_name = os.path.join(old_test_image_dir, image)\n",
    "    new_name = os.path.join(new_test_image_dir, image)\n",
    "    shutil.copyfile(old_name, new_name)"
   ]
  },
  {
   "cell_type": "code",
   "execution_count": 93,
   "metadata": {},
   "outputs": [],
   "source": [
    "with open('test_image_file.txt', 'w') as f:\n",
    "    for image in sub_test_image_list:\n",
    "        f.write(image + '\\n')"
   ]
  },
  {
   "cell_type": "markdown",
   "metadata": {},
   "source": [
    "### get train image"
   ]
  },
  {
   "cell_type": "code",
   "execution_count": 94,
   "metadata": {},
   "outputs": [],
   "source": [
    "total_train_image_list = os.listdir(os.path.join(total_image_dir, train_dir))"
   ]
  },
  {
   "cell_type": "code",
   "execution_count": 95,
   "metadata": {},
   "outputs": [
    {
     "data": {
      "text/plain": [
       "118287"
      ]
     },
     "execution_count": 95,
     "metadata": {},
     "output_type": "execute_result"
    }
   ],
   "source": [
    "len(total_train_image_list)"
   ]
  },
  {
   "cell_type": "code",
   "execution_count": 96,
   "metadata": {},
   "outputs": [],
   "source": [
    "trainImageIds = set()\n",
    "with open('trainImageIds', 'r') as f:\n",
    "    for line in f:\n",
    "        trainImageIds.add(line.strip('\\n'))"
   ]
  },
  {
   "cell_type": "code",
   "execution_count": 97,
   "metadata": {},
   "outputs": [
    {
     "data": {
      "text/plain": [
       "8000"
      ]
     },
     "execution_count": 97,
     "metadata": {},
     "output_type": "execute_result"
    }
   ],
   "source": [
    "len(trainImageIds)"
   ]
  },
  {
   "cell_type": "code",
   "execution_count": 98,
   "metadata": {},
   "outputs": [],
   "source": [
    "sub_train_image_list = []\n",
    "for image in total_train_image_list:\n",
    "    idx = image.split('.')[0]\n",
    "    idx = int(idx)\n",
    "    idx = str(idx)\n",
    "    if idx in trainImageIds:\n",
    "        sub_train_image_list.append(image)"
   ]
  },
  {
   "cell_type": "code",
   "execution_count": 99,
   "metadata": {},
   "outputs": [
    {
     "data": {
      "text/plain": [
       "8000"
      ]
     },
     "execution_count": 99,
     "metadata": {},
     "output_type": "execute_result"
    }
   ],
   "source": [
    "len(sub_train_image_list)"
   ]
  },
  {
   "cell_type": "code",
   "execution_count": 100,
   "metadata": {},
   "outputs": [],
   "source": [
    "new_train_image_dir = os.path.join(sub_image_dir, train_dir)\n",
    "old_train_image_dir = os.path.join(total_image_dir, train_dir)\n",
    "for image in sub_train_image_list:\n",
    "    old_name = os.path.join(old_train_image_dir, image)\n",
    "    new_name = os.path.join(new_train_image_dir, image)\n",
    "    shutil.copyfile(old_name, new_name)"
   ]
  },
  {
   "cell_type": "code",
   "execution_count": 101,
   "metadata": {},
   "outputs": [],
   "source": [
    "with open('train_image_file.txt', 'w') as f:\n",
    "    for image in sub_train_image_list:\n",
    "        f.write(image + '\\n')"
   ]
  },
  {
   "cell_type": "markdown",
   "metadata": {},
   "source": [
    "### get valid image"
   ]
  },
  {
   "cell_type": "code",
   "execution_count": 102,
   "metadata": {},
   "outputs": [],
   "source": [
    "validImageIds = set()\n",
    "with open('validImageIds', 'r') as f:\n",
    "    for line in f:\n",
    "        validImageIds.add(line.strip('\\n'))"
   ]
  },
  {
   "cell_type": "code",
   "execution_count": 103,
   "metadata": {},
   "outputs": [
    {
     "data": {
      "text/plain": [
       "1000"
      ]
     },
     "execution_count": 103,
     "metadata": {},
     "output_type": "execute_result"
    }
   ],
   "source": [
    "len(validImageIds)"
   ]
  },
  {
   "cell_type": "code",
   "execution_count": 104,
   "metadata": {},
   "outputs": [],
   "source": [
    "sub_valid_image_list = []\n",
    "for image in total_train_image_list:\n",
    "    idx = image.split('.')[0]\n",
    "    idx = int(idx)\n",
    "    idx = str(idx)\n",
    "    if idx in validImageIds:\n",
    "        sub_valid_image_list.append(image)"
   ]
  },
  {
   "cell_type": "code",
   "execution_count": 106,
   "metadata": {},
   "outputs": [
    {
     "data": {
      "text/plain": [
       "1000"
      ]
     },
     "execution_count": 106,
     "metadata": {},
     "output_type": "execute_result"
    }
   ],
   "source": [
    "len(sub_valid_image_list)"
   ]
  },
  {
   "cell_type": "code",
   "execution_count": 107,
   "metadata": {},
   "outputs": [],
   "source": [
    "new_valid_image_dir = os.path.join(sub_image_dir, old_test_dir)\n",
    "old_valid_image_dir = os.path.join(total_image_dir, train_dir)\n",
    "for image in sub_valid_image_list:\n",
    "    old_name = os.path.join(old_valid_image_dir, image)\n",
    "    new_name = os.path.join(new_valid_image_dir, image)\n",
    "    shutil.copyfile(old_name, new_name)"
   ]
  },
  {
   "cell_type": "code",
   "execution_count": 108,
   "metadata": {},
   "outputs": [],
   "source": [
    "with open('valid_image_file.txt', 'w') as f:\n",
    "    for image in sub_valid_image_list:\n",
    "        f.write(image + '\\n')"
   ]
  },
  {
   "cell_type": "code",
   "execution_count": null,
   "metadata": {},
   "outputs": [],
   "source": []
  }
 ],
 "metadata": {
  "kernelspec": {
   "display_name": "Python 3",
   "language": "python",
   "name": "python3"
  },
  "language_info": {
   "codemirror_mode": {
    "name": "ipython",
    "version": 3
   },
   "file_extension": ".py",
   "mimetype": "text/x-python",
   "name": "python",
   "nbconvert_exporter": "python",
   "pygments_lexer": "ipython3",
   "version": "3.7.3"
  }
 },
 "nbformat": 4,
 "nbformat_minor": 2
}
